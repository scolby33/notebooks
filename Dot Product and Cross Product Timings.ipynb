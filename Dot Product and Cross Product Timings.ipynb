{
 "cells": [
  {
   "cell_type": "markdown",
   "metadata": {},
   "source": [
    "# Dot Product and Cross Product Timings\n",
    "\n",
    "I've got to compute the dot products and cross products of three-component vectors (disguised as tuples...) fairly frequently for an application I'm working on.\n",
    "\n",
    "Using `numpy.dot()` and `numpy.cross()` is convenient, but how do they fare compared to doing the math explicitly?"
   ]
  },
  {
   "cell_type": "code",
   "execution_count": 1,
   "metadata": {
    "collapsed": false
   },
   "outputs": [],
   "source": [
    "from random import random\n",
    "def random_3tuple():\n",
    "    return (random(), random(), random())"
   ]
  },
  {
   "cell_type": "markdown",
   "metadata": {},
   "source": [
    "## Testing Different Dot Product Implementations"
   ]
  },
  {
   "cell_type": "markdown",
   "metadata": {},
   "source": [
    "The most Pythonic way, in my opinion:"
   ]
  },
  {
   "cell_type": "code",
   "execution_count": 2,
   "metadata": {
    "collapsed": false,
    "scrolled": false
   },
   "outputs": [
    {
     "name": "stdout",
     "output_type": "stream",
     "text": [
      "The slowest run took 5.07 times longer than the fastest. This could mean that an intermediate result is being cached.\n",
      "1000000 loops, best of 3: 1.52 µs per loop\n"
     ]
    }
   ],
   "source": [
    "%%timeit x = random_3tuple(); y = random_3tuple()\n",
    "sum((i[0]*i[1] for i in zip(x, y)))"
   ]
  },
  {
   "cell_type": "markdown",
   "metadata": {},
   "source": [
    "Using a for loop to avoid `sum()` and `zip()`, but still allow for arbitrary-length vectors"
   ]
  },
  {
   "cell_type": "code",
   "execution_count": 3,
   "metadata": {
    "collapsed": false
   },
   "outputs": [
    {
     "name": "stdout",
     "output_type": "stream",
     "text": [
      "The slowest run took 5.11 times longer than the fastest. This could mean that an intermediate result is being cached.\n",
      "1000000 loops, best of 3: 997 ns per loop\n"
     ]
    }
   ],
   "source": [
    "%%timeit x = random_3tuple(); y = random_3tuple()\n",
    "a = 0\n",
    "for i in range(len(x)):\n",
    "    a += x[i] * y[i]"
   ]
  },
  {
   "cell_type": "markdown",
   "metadata": {},
   "source": [
    "Construct the products manually but still use `sum()`"
   ]
  },
  {
   "cell_type": "code",
   "execution_count": 4,
   "metadata": {
    "collapsed": false
   },
   "outputs": [
    {
     "name": "stdout",
     "output_type": "stream",
     "text": [
      "The slowest run took 4.48 times longer than the fastest. This could mean that an intermediate result is being cached.\n",
      "1000000 loops, best of 3: 586 ns per loop\n"
     ]
    }
   ],
   "source": [
    "%%timeit x = random_3tuple(); y = random_3tuple()\n",
    "sum((x[0]*y[0], x[1]*y[1], x[2]*y[2]))"
   ]
  },
  {
   "cell_type": "markdown",
   "metadata": {},
   "source": [
    "Just do it all by hand"
   ]
  },
  {
   "cell_type": "code",
   "execution_count": 5,
   "metadata": {
    "collapsed": false
   },
   "outputs": [
    {
     "name": "stdout",
     "output_type": "stream",
     "text": [
      "1000000 loops, best of 3: 345 ns per loop\n"
     ]
    }
   ],
   "source": [
    "%%timeit x = random_3tuple(); y = random_3tuple()\n",
    "x[0]*y[0] + x[1]*y[1] + x[2]*y[2]"
   ]
  },
  {
   "cell_type": "markdown",
   "metadata": {},
   "source": [
    "Try Numpy!"
   ]
  },
  {
   "cell_type": "code",
   "execution_count": 6,
   "metadata": {
    "collapsed": false
   },
   "outputs": [
    {
     "name": "stdout",
     "output_type": "stream",
     "text": [
      "The slowest run took 523.81 times longer than the fastest. This could mean that an intermediate result is being cached.\n",
      "100000 loops, best of 3: 3.1 µs per loop\n"
     ]
    }
   ],
   "source": [
    "%%timeit import numpy as np; x = random_3tuple(); y = random_3tuple()\n",
    "np.dot(x, y)"
   ]
  },
  {
   "cell_type": "markdown",
   "metadata": {},
   "source": [
    "## Testing Different Cross Product Implementations"
   ]
  },
  {
   "cell_type": "markdown",
   "metadata": {},
   "source": [
    "Do it by hand"
   ]
  },
  {
   "cell_type": "code",
   "execution_count": 7,
   "metadata": {
    "collapsed": false
   },
   "outputs": [
    {
     "name": "stdout",
     "output_type": "stream",
     "text": [
      "1000000 loops, best of 3: 717 ns per loop\n"
     ]
    }
   ],
   "source": [
    "%%timeit x = random_3tuple(); y = random_3tuple()\n",
    "(x[1]*y[2]-x[2]*y[1], x[2]*y[0]-x[0]*y[2], x[0]*y[1]-x[1]*y[0])"
   ]
  },
  {
   "cell_type": "markdown",
   "metadata": {},
   "source": [
    "Try Numpy!"
   ]
  },
  {
   "cell_type": "code",
   "execution_count": 8,
   "metadata": {
    "collapsed": false,
    "scrolled": true
   },
   "outputs": [
    {
     "name": "stdout",
     "output_type": "stream",
     "text": [
      "The slowest run took 60.94 times longer than the fastest. This could mean that an intermediate result is being cached.\n",
      "10000 loops, best of 3: 32.3 µs per loop\n"
     ]
    }
   ],
   "source": [
    "%%timeit import numpy as np\n",
    "np.cross(random_3tuple(), random_3tuple())"
   ]
  },
  {
   "cell_type": "markdown",
   "metadata": {},
   "source": [
    "## Conclusion\n",
    "\n",
    "The \"dumbest\" implementations turn out to be the fastest--for the dot product, just do the addition and multiplication explicitly and for the cross product, construct the tuple by hand as well.\n",
    "\n",
    "These solutions lack the ability to be applied to vectors with any number of components besides three, which does sacrifice some flexibility, but since I only need these operations for three-component vectors, the time savings is worth the loss!"
   ]
  }
 ],
 "metadata": {
  "kernelspec": {
   "display_name": "Python 3",
   "language": "python",
   "name": "python3"
  },
  "language_info": {
   "codemirror_mode": {
    "name": "ipython",
    "version": 3
   },
   "file_extension": ".py",
   "mimetype": "text/x-python",
   "name": "python",
   "nbconvert_exporter": "python",
   "pygments_lexer": "ipython3",
   "version": "3.5.1"
  }
 },
 "nbformat": 4,
 "nbformat_minor": 0
}
